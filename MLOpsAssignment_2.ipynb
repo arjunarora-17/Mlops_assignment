{
 "cells": [
  {
   "cell_type": "code",
   "execution_count": 97,
   "metadata": {
    "colab": {
     "base_uri": "https://localhost:8080/"
    },
    "collapsed": true,
    "executionInfo": {
     "elapsed": 908,
     "status": "ok",
     "timestamp": 1724766296522,
     "user": {
      "displayName": "Arjun Arora (M24CSA003)",
      "userId": "03671055651644033312"
     },
     "user_tz": -330
    },
    "id": "Apk2aQXAglnn",
    "outputId": "561e025e-8491-4cfb-a780-bdd0d3865cb4"
   },
   "outputs": [
    {
     "name": "stdout",
     "output_type": "stream",
     "text": [
      "--2024-08-27 13:44:55--  https://archive.ics.uci.edu/static/public/275/bike+sharing+dataset.zip\n",
      "Resolving archive.ics.uci.edu (archive.ics.uci.edu)... 128.195.10.252\n",
      "Connecting to archive.ics.uci.edu (archive.ics.uci.edu)|128.195.10.252|:443... connected.\n",
      "HTTP request sent, awaiting response... 200 OK\n",
      "Length: unspecified\n",
      "Saving to: ‘bike+sharing+dataset.zip.1’\n",
      "\n",
      "bike+sharing+datase     [  <=>               ] 273.43K   961KB/s    in 0.3s    \n",
      "\n",
      "2024-08-27 13:44:56 (961 KB/s) - ‘bike+sharing+dataset.zip.1’ saved [279992]\n",
      "\n"
     ]
    }
   ],
   "source": [
    "# FOR GOOGLE COLAB\n",
    "# !wget https://archive.ics.uci.edu/static/public/275/bike+sharing+dataset.zip\n",
    "# !unzip bike+sharing+dataset.zip"
   ]
  },
  {
   "cell_type": "code",
   "execution_count": 209,
   "metadata": {
    "executionInfo": {
     "elapsed": 460,
     "status": "ok",
     "timestamp": 1724766310334,
     "user": {
      "displayName": "Arjun Arora (M24CSA003)",
      "userId": "03671055651644033312"
     },
     "user_tz": -330
    },
    "id": "xOHObXllg0rz"
   },
   "outputs": [],
   "source": [
    "import pandas as pd"
   ]
  },
  {
   "cell_type": "code",
   "execution_count": 210,
   "metadata": {
    "executionInfo": {
     "elapsed": 441,
     "status": "ok",
     "timestamp": 1724766314026,
     "user": {
      "displayName": "Arjun Arora (M24CSA003)",
      "userId": "03671055651644033312"
     },
     "user_tz": -330
    },
    "id": "XXGTPyj_g5KG"
   },
   "outputs": [],
   "source": [
    "df=pd.read_csv('./hour.csv')\n",
    "df['day_night'] = df['hr'].apply(lambda x: 'day' if 6 <= x <= 18 else 'night')\n",
    "df.drop(['instant', 'casual', 'registered'], axis=1, inplace=True)\n",
    "df['dteday'] = pd.to_datetime(df.dteday)\n",
    "\n",
    "#Catagories\n",
    "df['season'] = df.season.astype('category')\n",
    "df['holiday'] = df.holiday.astype('category')\n",
    "df['weekday'] = df.weekday.astype('category')\n",
    "df['weathersit'] = df.weathersit.astype('category')\n",
    "df['workingday'] = df.workingday.astype('category')\n",
    "df['mnth'] = df.mnth.astype('category')\n",
    "df['yr'] = df.yr.astype('category')\n",
    "df['hr'] = df.hr.astype('category')\n",
    "df['day_night'] = df.day_night.astype('category')\n",
    "\n",
    "df.drop(columns=['dteday'], inplace=True)"
   ]
  },
  {
   "cell_type": "code",
   "execution_count": 211,
   "metadata": {
    "id": "43amNSsDhHr8"
   },
   "outputs": [],
   "source": [
    "# Separating features and target variable\n",
    "X = df.drop(columns=['cnt']) # Features\n",
    "y = df['cnt'] # Target"
   ]
  },
  {
   "cell_type": "code",
   "execution_count": 212,
   "metadata": {
    "id": "A9vjs_JGg7XK"
   },
   "outputs": [],
   "source": [
    "# PIPELINE\n",
    "from sklearn.impute import SimpleImputer\n",
    "from sklearn.preprocessing import MinMaxScaler, OneHotEncoder, FunctionTransformer\n",
    "from sklearn.pipeline import Pipeline\n",
    "from category_encoders import TargetEncoder\n",
    "from sklearn import set_config"
   ]
  },
  {
   "cell_type": "markdown",
   "metadata": {},
   "source": [
    "Question 1"
   ]
  },
  {
   "cell_type": "code",
   "execution_count": 213,
   "metadata": {
    "id": "aU8-E0xmhWcz"
   },
   "outputs": [],
   "source": [
    "# FEATURE ENGINEERING (Commented because performance was deteriorated after feature engineering, hence procceding with original features)\n",
    "# X['wind_temp'] = X['windspeed']*X['temp']\n",
    "# X['hum_atemp'] = X['hum'] * X['atemp']\n",
    "# X.drop(['windspeed', 'atemp', 'hum', 'temp'], axis=1, inplace=True)"
   ]
  },
  {
   "cell_type": "code",
   "execution_count": 214,
   "metadata": {
    "id": "aU8-E0xmhWcz"
   },
   "outputs": [],
   "source": [
    "# Numerical features\n",
    "#numerical_features = ['wind_temp', 'hum_atemp']\n",
    "numerical_features = ['windspeed', 'atemp', 'hum', 'temp']\n",
    "numerical_pipeline = Pipeline([\n",
    "('imputer', SimpleImputer(strategy='mean')), # Impute missing values with mean\n",
    "('scaler', MinMaxScaler()) # Normalize using MinMaxScaler\n",
    "])\n",
    "# Transforming above\n",
    "X[numerical_features] = numerical_pipeline.fit_transform(X[numerical_features])"
   ]
  },
  {
   "cell_type": "code",
   "execution_count": 215,
   "metadata": {
    "id": "aU8-E0xmhWcz"
   },
   "outputs": [],
   "source": [
    "# Categorical features(ONE HOT ENCODING)\n",
    "categorical_features = ['season', 'weathersit', 'day_night']\n",
    "categorical_pipeline = Pipeline([\n",
    "('imputer', SimpleImputer(strategy='most_frequent')),\n",
    "('onehot', OneHotEncoder(sparse_output=False, drop='first'))\n",
    "])\n",
    "# Transforming above\n",
    "X_encoded = categorical_pipeline.fit_transform(X[categorical_features])\n",
    "# Converting it to a dataframe\n",
    "\n",
    "X_encoded = pd.DataFrame(X_encoded,\n",
    "columns=categorical_pipeline.named_steps['onehot'].get_feature_names_out(categorical_features))\n",
    "# Encoded categorical features + Numerical features\n",
    "X = pd.concat([X.drop(columns=categorical_features), X_encoded], axis=1)"
   ]
  },
  {
   "cell_type": "markdown",
   "metadata": {},
   "source": [
    "Question 2"
   ]
  },
  {
   "cell_type": "code",
   "execution_count": 187,
   "metadata": {},
   "outputs": [],
   "source": [
    "# Categorical features(ONE HOT ENCODING)\n",
    "categorical_features = ['season', 'weathersit', 'day_night']\n",
    "\n",
    "X_encoded = df.copy()\n",
    "\n",
    "# mean target value for each category in the categorical features\n",
    "target_means = {}\n",
    "for col in categorical_features:\n",
    "    means = X_encoded.groupby(col)[y.name].mean()\n",
    "    target_means[col] = means\n",
    "\n",
    "# target encoding\n",
    "for col in categorical_features:\n",
    "    X_encoded[col] = X_encoded[col].map(target_means[col])\n",
    "\n",
    "# for missing values \n",
    "imputer = SimpleImputer(strategy='mean')\n",
    "X_encoded[categorical_features] = imputer.fit_transform(X_encoded[categorical_features])\n",
    "\n",
    "# Combining\n",
    "X_final = pd.concat([X_encoded.drop(columns=categorical_features), X_encoded[categorical_features]], axis=1)\n",
    "X_final = pd.DataFrame(X_final)"
   ]
  },
  {
   "cell_type": "code",
   "execution_count": 216,
   "metadata": {
    "id": "qsLpon4Xhlhy"
   },
   "outputs": [],
   "source": [
    "from sklearn.linear_model import LinearRegression\n",
    "from sklearn.model_selection import train_test_split\n",
    "from sklearn.metrics import mean_squared_error, r2_score"
   ]
  },
  {
   "cell_type": "markdown",
   "metadata": {
    "id": "YQgh4I19r2cC"
   },
   "source": []
  },
  {
   "cell_type": "code",
   "execution_count": 217,
   "metadata": {
    "id": "wQle-eSQmbal"
   },
   "outputs": [],
   "source": [
    "# For X\n",
    "X_train, X_test, y_train, y_test = train_test_split(X, y, test_size=0.2, random_state=32)"
   ]
  },
  {
   "cell_type": "code",
   "execution_count": 218,
   "metadata": {
    "colab": {
     "base_uri": "https://localhost:8080/",
     "height": 74
    },
    "executionInfo": {
     "elapsed": 3,
     "status": "ok",
     "timestamp": 1724748800775,
     "user": {
      "displayName": "Arjun Arora (M24CSA003)",
      "userId": "03671055651644033312"
     },
     "user_tz": -330
    },
    "id": "zRX2-u3eqmQO",
    "outputId": "03f49faf-d55f-4971-bb59-c84feb794707"
   },
   "outputs": [
    {
     "data": {
      "text/html": [
       "<style>#sk-container-id-13 {color: black;background-color: white;}#sk-container-id-13 pre{padding: 0;}#sk-container-id-13 div.sk-toggleable {background-color: white;}#sk-container-id-13 label.sk-toggleable__label {cursor: pointer;display: block;width: 100%;margin-bottom: 0;padding: 0.3em;box-sizing: border-box;text-align: center;}#sk-container-id-13 label.sk-toggleable__label-arrow:before {content: \"▸\";float: left;margin-right: 0.25em;color: #696969;}#sk-container-id-13 label.sk-toggleable__label-arrow:hover:before {color: black;}#sk-container-id-13 div.sk-estimator:hover label.sk-toggleable__label-arrow:before {color: black;}#sk-container-id-13 div.sk-toggleable__content {max-height: 0;max-width: 0;overflow: hidden;text-align: left;background-color: #f0f8ff;}#sk-container-id-13 div.sk-toggleable__content pre {margin: 0.2em;color: black;border-radius: 0.25em;background-color: #f0f8ff;}#sk-container-id-13 input.sk-toggleable__control:checked~div.sk-toggleable__content {max-height: 200px;max-width: 100%;overflow: auto;}#sk-container-id-13 input.sk-toggleable__control:checked~label.sk-toggleable__label-arrow:before {content: \"▾\";}#sk-container-id-13 div.sk-estimator input.sk-toggleable__control:checked~label.sk-toggleable__label {background-color: #d4ebff;}#sk-container-id-13 div.sk-label input.sk-toggleable__control:checked~label.sk-toggleable__label {background-color: #d4ebff;}#sk-container-id-13 input.sk-hidden--visually {border: 0;clip: rect(1px 1px 1px 1px);clip: rect(1px, 1px, 1px, 1px);height: 1px;margin: -1px;overflow: hidden;padding: 0;position: absolute;width: 1px;}#sk-container-id-13 div.sk-estimator {font-family: monospace;background-color: #f0f8ff;border: 1px dotted black;border-radius: 0.25em;box-sizing: border-box;margin-bottom: 0.5em;}#sk-container-id-13 div.sk-estimator:hover {background-color: #d4ebff;}#sk-container-id-13 div.sk-parallel-item::after {content: \"\";width: 100%;border-bottom: 1px solid gray;flex-grow: 1;}#sk-container-id-13 div.sk-label:hover label.sk-toggleable__label {background-color: #d4ebff;}#sk-container-id-13 div.sk-serial::before {content: \"\";position: absolute;border-left: 1px solid gray;box-sizing: border-box;top: 0;bottom: 0;left: 50%;z-index: 0;}#sk-container-id-13 div.sk-serial {display: flex;flex-direction: column;align-items: center;background-color: white;padding-right: 0.2em;padding-left: 0.2em;position: relative;}#sk-container-id-13 div.sk-item {position: relative;z-index: 1;}#sk-container-id-13 div.sk-parallel {display: flex;align-items: stretch;justify-content: center;background-color: white;position: relative;}#sk-container-id-13 div.sk-item::before, #sk-container-id-13 div.sk-parallel-item::before {content: \"\";position: absolute;border-left: 1px solid gray;box-sizing: border-box;top: 0;bottom: 0;left: 50%;z-index: -1;}#sk-container-id-13 div.sk-parallel-item {display: flex;flex-direction: column;z-index: 1;position: relative;background-color: white;}#sk-container-id-13 div.sk-parallel-item:first-child::after {align-self: flex-end;width: 50%;}#sk-container-id-13 div.sk-parallel-item:last-child::after {align-self: flex-start;width: 50%;}#sk-container-id-13 div.sk-parallel-item:only-child::after {width: 0;}#sk-container-id-13 div.sk-dashed-wrapped {border: 1px dashed gray;margin: 0 0.4em 0.5em 0.4em;box-sizing: border-box;padding-bottom: 0.4em;background-color: white;}#sk-container-id-13 div.sk-label label {font-family: monospace;font-weight: bold;display: inline-block;line-height: 1.2em;}#sk-container-id-13 div.sk-label-container {text-align: center;}#sk-container-id-13 div.sk-container {/* jupyter's `normalize.less` sets `[hidden] { display: none; }` but bootstrap.min.css set `[hidden] { display: none !important; }` so we also need the `!important` here to be able to override the default hidden behavior on the sphinx rendered scikit-learn.org. See: https://github.com/scikit-learn/scikit-learn/issues/21755 */display: inline-block !important;position: relative;}#sk-container-id-13 div.sk-text-repr-fallback {display: none;}</style><div id=\"sk-container-id-13\" class=\"sk-top-container\"><div class=\"sk-text-repr-fallback\"><pre>LinearRegression()</pre><b>In a Jupyter environment, please rerun this cell to show the HTML representation or trust the notebook. <br />On GitHub, the HTML representation is unable to render, please try loading this page with nbviewer.org.</b></div><div class=\"sk-container\" hidden><div class=\"sk-item\"><div class=\"sk-estimator sk-toggleable\"><input class=\"sk-toggleable__control sk-hidden--visually\" id=\"sk-estimator-id-27\" type=\"checkbox\" checked><label for=\"sk-estimator-id-27\" class=\"sk-toggleable__label sk-toggleable__label-arrow\">LinearRegression</label><div class=\"sk-toggleable__content\"><pre>LinearRegression()</pre></div></div></div></div></div>"
      ],
      "text/plain": [
       "LinearRegression()"
      ]
     },
     "execution_count": 218,
     "metadata": {},
     "output_type": "execute_result"
    }
   ],
   "source": [
    "# For X\n",
    "model = LinearRegression()\n",
    "model.fit(X_train, y_train)\n",
    "\n",
    "# For X_target_encoded\n",
    "#model_encoded = LinearRegression()\n",
    "#model_encoded.fit(X_train_encoded, y_train_encoded)"
   ]
  },
  {
   "cell_type": "code",
   "execution_count": 219,
   "metadata": {
    "colab": {
     "base_uri": "https://localhost:8080/"
    },
    "executionInfo": {
     "elapsed": 4,
     "status": "ok",
     "timestamp": 1724748801574,
     "user": {
      "displayName": "Arjun Arora (M24CSA003)",
      "userId": "03671055651644033312"
     },
     "user_tz": -330
    },
    "id": "44hCnnYtrUUK",
    "outputId": "b4a8a8d6-d7fb-4528-97a3-60c9b2e3f4cc"
   },
   "outputs": [
    {
     "name": "stdout",
     "output_type": "stream",
     "text": [
      "Mean Squared Error: 15387.412761263442\n",
      "R-squared: 0.526788819252584\n"
     ]
    }
   ],
   "source": [
    "y_pred = model.predict(X_test)\n",
    "\n",
    "mse = mean_squared_error(y_test, y_pred)\n",
    "r2 = r2_score(y_test, y_pred)\n",
    "print(f'Mean Squared Error: {mse}')\n",
    "print(f'R-squared: {r2}')"
   ]
  },
  {
   "cell_type": "markdown",
   "metadata": {},
   "source": [
    "### COMPARISON RESULTS\n",
    "* Before Feature Engineering\n",
    "Mean Squared Error: 14896.150620843286\n",
    "R-squared: 0.5295765950245785\n",
    "\n",
    "* After feature engineering\n",
    "Mean Squared Error: 15759.859746064763\n",
    "R-squared: 0.5023004887379983\n",
    "\n",
    "--\n",
    "* One Hot Encoding\n",
    "Mean Squared Error: 14896.150620843286\n",
    "R-squared: 0.5295765950245785\n",
    "\n",
    "* Target Encoding\n",
    "Mean Squared Error: 13896.148748489446\n",
    "R-squared: 0.5587181786464568"
   ]
  },
  {
   "cell_type": "code",
   "execution_count": 256,
   "metadata": {
    "id": "uj_AJND0r6XD"
   },
   "outputs": [],
   "source": [
    "categorical_pipeline = Pipeline([\n",
    "('imputer', SimpleImputer(strategy='most_frequent')),\n",
    "('target_encoder', ce.TargetEncoder())\n",
    "])\n",
    "\n",
    "final_pipeline = Pipeline([\n",
    "('num_preprocess', numerical_pipeline),\n",
    "('cat_preprocess', categorical_pipeline),\n",
    "('model', LinearRegression())\n",
    "])"
   ]
  },
  {
   "cell_type": "code",
   "execution_count": 257,
   "metadata": {
    "colab": {
     "base_uri": "https://localhost:8080/",
     "height": 279
    },
    "executionInfo": {
     "elapsed": 4,
     "status": "ok",
     "timestamp": 1724748801575,
     "user": {
      "displayName": "Arjun Arora (M24CSA003)",
      "userId": "03671055651644033312"
     },
     "user_tz": -330
    },
    "id": "FIxtFhATsX0h",
    "outputId": "93b4324d-76eb-4936-df68-caaf226a6dd7"
   },
   "outputs": [
    {
     "data": {
      "text/html": [
       "<style>#sk-container-id-24 {color: black;background-color: white;}#sk-container-id-24 pre{padding: 0;}#sk-container-id-24 div.sk-toggleable {background-color: white;}#sk-container-id-24 label.sk-toggleable__label {cursor: pointer;display: block;width: 100%;margin-bottom: 0;padding: 0.3em;box-sizing: border-box;text-align: center;}#sk-container-id-24 label.sk-toggleable__label-arrow:before {content: \"▸\";float: left;margin-right: 0.25em;color: #696969;}#sk-container-id-24 label.sk-toggleable__label-arrow:hover:before {color: black;}#sk-container-id-24 div.sk-estimator:hover label.sk-toggleable__label-arrow:before {color: black;}#sk-container-id-24 div.sk-toggleable__content {max-height: 0;max-width: 0;overflow: hidden;text-align: left;background-color: #f0f8ff;}#sk-container-id-24 div.sk-toggleable__content pre {margin: 0.2em;color: black;border-radius: 0.25em;background-color: #f0f8ff;}#sk-container-id-24 input.sk-toggleable__control:checked~div.sk-toggleable__content {max-height: 200px;max-width: 100%;overflow: auto;}#sk-container-id-24 input.sk-toggleable__control:checked~label.sk-toggleable__label-arrow:before {content: \"▾\";}#sk-container-id-24 div.sk-estimator input.sk-toggleable__control:checked~label.sk-toggleable__label {background-color: #d4ebff;}#sk-container-id-24 div.sk-label input.sk-toggleable__control:checked~label.sk-toggleable__label {background-color: #d4ebff;}#sk-container-id-24 input.sk-hidden--visually {border: 0;clip: rect(1px 1px 1px 1px);clip: rect(1px, 1px, 1px, 1px);height: 1px;margin: -1px;overflow: hidden;padding: 0;position: absolute;width: 1px;}#sk-container-id-24 div.sk-estimator {font-family: monospace;background-color: #f0f8ff;border: 1px dotted black;border-radius: 0.25em;box-sizing: border-box;margin-bottom: 0.5em;}#sk-container-id-24 div.sk-estimator:hover {background-color: #d4ebff;}#sk-container-id-24 div.sk-parallel-item::after {content: \"\";width: 100%;border-bottom: 1px solid gray;flex-grow: 1;}#sk-container-id-24 div.sk-label:hover label.sk-toggleable__label {background-color: #d4ebff;}#sk-container-id-24 div.sk-serial::before {content: \"\";position: absolute;border-left: 1px solid gray;box-sizing: border-box;top: 0;bottom: 0;left: 50%;z-index: 0;}#sk-container-id-24 div.sk-serial {display: flex;flex-direction: column;align-items: center;background-color: white;padding-right: 0.2em;padding-left: 0.2em;position: relative;}#sk-container-id-24 div.sk-item {position: relative;z-index: 1;}#sk-container-id-24 div.sk-parallel {display: flex;align-items: stretch;justify-content: center;background-color: white;position: relative;}#sk-container-id-24 div.sk-item::before, #sk-container-id-24 div.sk-parallel-item::before {content: \"\";position: absolute;border-left: 1px solid gray;box-sizing: border-box;top: 0;bottom: 0;left: 50%;z-index: -1;}#sk-container-id-24 div.sk-parallel-item {display: flex;flex-direction: column;z-index: 1;position: relative;background-color: white;}#sk-container-id-24 div.sk-parallel-item:first-child::after {align-self: flex-end;width: 50%;}#sk-container-id-24 div.sk-parallel-item:last-child::after {align-self: flex-start;width: 50%;}#sk-container-id-24 div.sk-parallel-item:only-child::after {width: 0;}#sk-container-id-24 div.sk-dashed-wrapped {border: 1px dashed gray;margin: 0 0.4em 0.5em 0.4em;box-sizing: border-box;padding-bottom: 0.4em;background-color: white;}#sk-container-id-24 div.sk-label label {font-family: monospace;font-weight: bold;display: inline-block;line-height: 1.2em;}#sk-container-id-24 div.sk-label-container {text-align: center;}#sk-container-id-24 div.sk-container {/* jupyter's `normalize.less` sets `[hidden] { display: none; }` but bootstrap.min.css set `[hidden] { display: none !important; }` so we also need the `!important` here to be able to override the default hidden behavior on the sphinx rendered scikit-learn.org. See: https://github.com/scikit-learn/scikit-learn/issues/21755 */display: inline-block !important;position: relative;}#sk-container-id-24 div.sk-text-repr-fallback {display: none;}</style><div id=\"sk-container-id-24\" class=\"sk-top-container\"><div class=\"sk-text-repr-fallback\"><pre>Pipeline(steps=[(&#x27;num_preprocess&#x27;,\n",
       "                 Pipeline(steps=[(&#x27;imputer&#x27;, SimpleImputer()),\n",
       "                                 (&#x27;scaler&#x27;, MinMaxScaler())])),\n",
       "                (&#x27;cat_preprocess&#x27;,\n",
       "                 Pipeline(steps=[(&#x27;imputer&#x27;,\n",
       "                                  SimpleImputer(strategy=&#x27;most_frequent&#x27;)),\n",
       "                                 (&#x27;target_encoder&#x27;, TargetEncoder())])),\n",
       "                (&#x27;model&#x27;, LinearRegression())])</pre><b>In a Jupyter environment, please rerun this cell to show the HTML representation or trust the notebook. <br />On GitHub, the HTML representation is unable to render, please try loading this page with nbviewer.org.</b></div><div class=\"sk-container\" hidden><div class=\"sk-item sk-dashed-wrapped\"><div class=\"sk-label-container\"><div class=\"sk-label sk-toggleable\"><input class=\"sk-toggleable__control sk-hidden--visually\" id=\"sk-estimator-id-103\" type=\"checkbox\" ><label for=\"sk-estimator-id-103\" class=\"sk-toggleable__label sk-toggleable__label-arrow\">Pipeline</label><div class=\"sk-toggleable__content\"><pre>Pipeline(steps=[(&#x27;num_preprocess&#x27;,\n",
       "                 Pipeline(steps=[(&#x27;imputer&#x27;, SimpleImputer()),\n",
       "                                 (&#x27;scaler&#x27;, MinMaxScaler())])),\n",
       "                (&#x27;cat_preprocess&#x27;,\n",
       "                 Pipeline(steps=[(&#x27;imputer&#x27;,\n",
       "                                  SimpleImputer(strategy=&#x27;most_frequent&#x27;)),\n",
       "                                 (&#x27;target_encoder&#x27;, TargetEncoder())])),\n",
       "                (&#x27;model&#x27;, LinearRegression())])</pre></div></div></div><div class=\"sk-serial\"><div class=\"sk-item\"><div class=\"sk-label-container\"><div class=\"sk-label sk-toggleable\"><input class=\"sk-toggleable__control sk-hidden--visually\" id=\"sk-estimator-id-104\" type=\"checkbox\" ><label for=\"sk-estimator-id-104\" class=\"sk-toggleable__label sk-toggleable__label-arrow\">num_preprocess: Pipeline</label><div class=\"sk-toggleable__content\"><pre>Pipeline(steps=[(&#x27;imputer&#x27;, SimpleImputer()), (&#x27;scaler&#x27;, MinMaxScaler())])</pre></div></div></div><div class=\"sk-serial\"><div class=\"sk-item\"><div class=\"sk-estimator sk-toggleable\"><input class=\"sk-toggleable__control sk-hidden--visually\" id=\"sk-estimator-id-105\" type=\"checkbox\" ><label for=\"sk-estimator-id-105\" class=\"sk-toggleable__label sk-toggleable__label-arrow\">SimpleImputer</label><div class=\"sk-toggleable__content\"><pre>SimpleImputer()</pre></div></div></div><div class=\"sk-item\"><div class=\"sk-estimator sk-toggleable\"><input class=\"sk-toggleable__control sk-hidden--visually\" id=\"sk-estimator-id-106\" type=\"checkbox\" ><label for=\"sk-estimator-id-106\" class=\"sk-toggleable__label sk-toggleable__label-arrow\">MinMaxScaler</label><div class=\"sk-toggleable__content\"><pre>MinMaxScaler()</pre></div></div></div></div></div><div class=\"sk-item\"><div class=\"sk-label-container\"><div class=\"sk-label sk-toggleable\"><input class=\"sk-toggleable__control sk-hidden--visually\" id=\"sk-estimator-id-107\" type=\"checkbox\" ><label for=\"sk-estimator-id-107\" class=\"sk-toggleable__label sk-toggleable__label-arrow\">cat_preprocess: Pipeline</label><div class=\"sk-toggleable__content\"><pre>Pipeline(steps=[(&#x27;imputer&#x27;, SimpleImputer(strategy=&#x27;most_frequent&#x27;)),\n",
       "                (&#x27;target_encoder&#x27;, TargetEncoder())])</pre></div></div></div><div class=\"sk-serial\"><div class=\"sk-item\"><div class=\"sk-estimator sk-toggleable\"><input class=\"sk-toggleable__control sk-hidden--visually\" id=\"sk-estimator-id-108\" type=\"checkbox\" ><label for=\"sk-estimator-id-108\" class=\"sk-toggleable__label sk-toggleable__label-arrow\">SimpleImputer</label><div class=\"sk-toggleable__content\"><pre>SimpleImputer(strategy=&#x27;most_frequent&#x27;)</pre></div></div></div><div class=\"sk-item\"><div class=\"sk-estimator sk-toggleable\"><input class=\"sk-toggleable__control sk-hidden--visually\" id=\"sk-estimator-id-109\" type=\"checkbox\" ><label for=\"sk-estimator-id-109\" class=\"sk-toggleable__label sk-toggleable__label-arrow\">TargetEncoder</label><div class=\"sk-toggleable__content\"><pre>TargetEncoder()</pre></div></div></div></div></div><div class=\"sk-item\"><div class=\"sk-estimator sk-toggleable\"><input class=\"sk-toggleable__control sk-hidden--visually\" id=\"sk-estimator-id-110\" type=\"checkbox\" ><label for=\"sk-estimator-id-110\" class=\"sk-toggleable__label sk-toggleable__label-arrow\">LinearRegression</label><div class=\"sk-toggleable__content\"><pre>LinearRegression()</pre></div></div></div></div></div></div></div>"
      ],
      "text/plain": [
       "Pipeline(steps=[('num_preprocess',\n",
       "                 Pipeline(steps=[('imputer', SimpleImputer()),\n",
       "                                 ('scaler', MinMaxScaler())])),\n",
       "                ('cat_preprocess',\n",
       "                 Pipeline(steps=[('imputer',\n",
       "                                  SimpleImputer(strategy='most_frequent')),\n",
       "                                 ('target_encoder', TargetEncoder())])),\n",
       "                ('model', LinearRegression())])"
      ]
     },
     "metadata": {},
     "output_type": "display_data"
    }
   ],
   "source": [
    "# One Hot Encoder\n",
    "from sklearn import set_config\n",
    "set_config(display='diagram')# To display\n",
    "display(final_pipeline)"
   ]
  },
  {
   "cell_type": "code",
   "execution_count": 220,
   "metadata": {
    "id": "nrCMovHg5Vn8"
   },
   "outputs": [],
   "source": [
    "import numpy as np\n",
    "import pandas as pd\n",
    "from sklearn.metrics import mean_squared_error, r2_score\n",
    "\n",
    "def train_linear_regressor(X, y):\n",
    "    # Convert to numpy arrays if X is a DataFrame\n",
    "    if isinstance(X, pd.DataFrame):\n",
    "        X = X.values\n",
    "    if isinstance(y, pd.Series):\n",
    "        y = y.values\n",
    "    \n",
    "    X = np.c_[np.ones(X.shape[0]), X]\n",
    "    X_transpose = X.T\n",
    "    beta = np.linalg.inv(X_transpose @ X) @ X_transpose @ y\n",
    "    y_pred = X @ beta\n",
    "    mse = mean_squared_error(y, y_pred)\n",
    "    r2 = r2_score(y, y_pred)\n",
    "    \n",
    "    return {\n",
    "        'Mean Squared Error': mse,\n",
    "        'R-squared': r2\n",
    "    }\n"
   ]
  },
  {
   "cell_type": "code",
   "execution_count": 223,
   "metadata": {
    "id": "jj6WH64G5svk"
   },
   "outputs": [
    {
     "data": {
      "text/plain": [
       "{'Mean Squared Error': 15428.575004076132, 'R-squared': 0.5310401937043101}"
      ]
     },
     "execution_count": 223,
     "metadata": {},
     "output_type": "execute_result"
    }
   ],
   "source": [
    "train_linear_regressor(X,y)"
   ]
  },
  {
   "cell_type": "code",
   "execution_count": 236,
   "metadata": {},
   "outputs": [],
   "source": [
    "import numpy as np\n",
    "import pandas as pd\n",
    "from sklearn.metrics import mean_squared_error, r2_score\n",
    "from sklearn.model_selection import train_test_split\n",
    "\n",
    "def train_linear_regressor(X_train, y_train):\n",
    "    if isinstance(X_train, pd.DataFrame):\n",
    "        X_train = X_train.values\n",
    "    if isinstance(y_train, pd.Series):\n",
    "        y_train = y_train.values\n",
    "    \n",
    "    X_train = np.c_[np.ones(X_train.shape[0]), X_train]\n",
    "\n",
    "    X_transpose = X_train.T\n",
    "    beta = np.linalg.inv(X_transpose @ X_train) @ X_transpose @ y_train\n",
    "    \n",
    "    return beta\n",
    "\n",
    "def evaluate_linear_regressor(X_test, y_test, beta):\n",
    "    if isinstance(X_test, pd.DataFrame):\n",
    "        X_test = X_test.values\n",
    "    if isinstance(y_test, pd.Series):\n",
    "        y_test = y_test.values\n",
    "    X_test = np.c_[np.ones(X_test.shape[0]), X_test]\n",
    "    y_pred = X_test @ beta\n",
    "    mse = mean_squared_error(y_test, y_pred)\n",
    "    r2 = r2_score(y_test, y_pred)\n",
    "    \n",
    "    return {\n",
    "        'Mean Squared Error': mse,\n",
    "        'R-squared': r2\n",
    "    }\n",
    "\n",
    "def linear_rsr(X, y):\n",
    "    X_train, X_test, y_train, y_test = train_test_split(X, y, test_size=0.2, random_state=42)\n",
    "    beta = train_linear_regressor(X_train, y_train)\n",
    "    metrics = evaluate_linear_regressor(X_test, y_test, beta)\n",
    "    print(f\"Mean Squared Error: {metrics['Mean Squared Error']}\")\n",
    "    print(f\"R-squared: {metrics['R-squared']}\")"
   ]
  },
  {
   "cell_type": "code",
   "execution_count": 237,
   "metadata": {},
   "outputs": [
    {
     "name": "stdout",
     "output_type": "stream",
     "text": [
      "Mean Squared Error: 14896.15062084341\n",
      "R-squared: 0.5295765950245745\n"
     ]
    }
   ],
   "source": [
    "linear_rsr(X,y)"
   ]
  }
 ],
 "metadata": {
  "colab": {
   "authorship_tag": "ABX9TyOPgDtVvLKgY6VJhgL1OzmI",
   "provenance": []
  },
  "kernelspec": {
   "display_name": "Python 3 (ipykernel)",
   "language": "python",
   "name": "python3"
  },
  "language_info": {
   "codemirror_mode": {
    "name": "ipython",
    "version": 3
   },
   "file_extension": ".py",
   "mimetype": "text/x-python",
   "name": "python",
   "nbconvert_exporter": "python",
   "pygments_lexer": "ipython3",
   "version": "3.11.3"
  }
 },
 "nbformat": 4,
 "nbformat_minor": 1
}
